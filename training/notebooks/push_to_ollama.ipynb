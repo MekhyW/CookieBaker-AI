{
 "cells": [
  {
   "cell_type": "markdown",
   "metadata": {},
   "source": [
    "Don't forget to login to Ollama, download the CLI if you haven't already, and add your public key!"
   ]
  },
  {
   "cell_type": "code",
   "execution_count": 7,
   "metadata": {},
   "outputs": [
    {
     "name": "stdout",
     "output_type": "stream",
     "text": [
      "Processed JSON has been saved to ../models/SFW_merged/tokenizer.json\n"
     ]
    }
   ],
   "source": [
    "import json\n",
    "\n",
    "def process_merges(obj):\n",
    "    \"\"\"\n",
    "    Recursively searches for 'merges' lists in a JSON-like structure and flattens them.\n",
    "\n",
    "    :param obj: The JSON object (dict, list, or other types).\n",
    "    :return: The modified JSON object with 'merges' lists processed.\n",
    "    \"\"\"\n",
    "    if isinstance(obj, dict):\n",
    "        for key, value in obj.items():\n",
    "            if key == \"merges\" and isinstance(value, list):\n",
    "                obj[key] = [\" \".join(pair) for pair in value if isinstance(pair, list)]\n",
    "            else:\n",
    "                process_merges(value)\n",
    "    elif isinstance(obj, list):\n",
    "        for item in obj:\n",
    "            process_merges(item)\n",
    "\n",
    "def flatten_merges_in_json(json_file, output_file=None):\n",
    "    \"\"\"\n",
    "    Reads a JSON file, processes all 'merges' lists to flatten them,\n",
    "    and writes the updated JSON to a new file or returns it.\n",
    "\n",
    "    :param json_file: Path to the input JSON file.\n",
    "    :param output_file: Optional path for the output JSON file.\n",
    "    :return: Processed JSON as a dictionary if output_file is not provided.\n",
    "    \"\"\"\n",
    "    try:\n",
    "        with open(json_file, 'r', encoding='utf-8') as file:\n",
    "            data = json.load(file)\n",
    "        process_merges(data)\n",
    "        if output_file:\n",
    "            with open(output_file, 'w', encoding='utf-8') as file:\n",
    "                json.dump(data, file, indent=4, ensure_ascii=False)\n",
    "            print(f\"Processed JSON has been saved to {output_file}\")\n",
    "        else:\n",
    "            return data\n",
    "    except Exception as e:\n",
    "        print(f\"An error occurred: {e}\")\n"
   ]
  },
  {
   "cell_type": "code",
   "execution_count": null,
   "metadata": {},
   "outputs": [],
   "source": [
    "modelfile_content = \"\"\"\n",
    "FROM ../SFW_merged\n",
    "\n",
    "ADAPTER checkpoint-150\n",
    "\n",
    "PARAMETER temperature 0.7\n",
    "PARAMETER top_p 0.7\n",
    "PARAMETER stop \"<|im_end|>\"\n",
    "PARAMETER stop \"<eos>\"\n",
    "PARAMETER stop \"<end_of_turn>\"\n",
    "\"\"\"\n",
    "\n",
    "with open(\"../models/SFW/Modelfile\", \"w\") as file:\n",
    "    file.write(modelfile_content)"
   ]
  },
  {
   "cell_type": "code",
   "execution_count": null,
   "metadata": {},
   "outputs": [],
   "source": [
    "modelfile_content = \"\"\"\n",
    "FROM ../NSFW_merged\n",
    "\n",
    "ADAPTER checkpoint-150\n",
    "\n",
    "PARAMETER temperature 0.7\n",
    "PARAMETER top_p 0.7\n",
    "PARAMETER stop \"<|im_end|>\"\n",
    "PARAMETER stop \"<eos>\"\n",
    "PARAMETER stop \"<end_of_turn>\"\n",
    "\"\"\"\n",
    "\n",
    "with open(\"../models/NSFW/Modelfile\", \"w\") as file:\n",
    "    file.write(modelfile_content)"
   ]
  },
  {
   "cell_type": "code",
   "execution_count": null,
   "metadata": {},
   "outputs": [],
   "source": [
    "flatten_merges_in_json(\"../models/SFW_merged/tokenizer.json\", \"../models/SFW_merged/tokenizer.json\")"
   ]
  },
  {
   "cell_type": "code",
   "execution_count": null,
   "metadata": {},
   "outputs": [],
   "source": [
    "flatten_merges_in_json(\"../models/NSFW_merged/tokenizer.json\", \"../models/NSFW_merged/tokenizer.json\")"
   ]
  },
  {
   "cell_type": "code",
   "execution_count": null,
   "metadata": {},
   "outputs": [],
   "source": [
    "import os\n",
    "\n",
    "os.system(\"cd ../models/SFW && ollama create your-username/cookiebaker-sfw -f Modelfile\")\n",
    "os.system(\"ollama push your-username/cookiebaker-sfw\")"
   ]
  },
  {
   "cell_type": "code",
   "execution_count": null,
   "metadata": {},
   "outputs": [],
   "source": [
    "os.system(\"cd ../models/NSFW && ollama create your-username/cookiebaker-nsfw -f Modelfile\")\n",
    "os.system(\"ollama push your-username/cookiebaker-nsfw\")"
   ]
  }
 ],
 "metadata": {
  "kernelspec": {
   "display_name": "Python 3",
   "language": "python",
   "name": "python3"
  },
  "language_info": {
   "codemirror_mode": {
    "name": "ipython",
    "version": 3
   },
   "file_extension": ".py",
   "mimetype": "text/x-python",
   "name": "python",
   "nbconvert_exporter": "python",
   "pygments_lexer": "ipython3",
   "version": "3.10.11"
  }
 },
 "nbformat": 4,
 "nbformat_minor": 2
}
